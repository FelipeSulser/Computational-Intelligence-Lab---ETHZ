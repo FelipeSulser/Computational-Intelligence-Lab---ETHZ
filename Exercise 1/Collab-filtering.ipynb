{
 "cells": [
  {
   "cell_type": "code",
   "execution_count": 4,
   "metadata": {
    "collapsed": true,
    "deletable": true,
    "editable": true
   },
   "outputs": [],
   "source": [
    "import csv\n",
    "import numpy as np\n",
    "import re\n",
    "\n",
    "regex1 = r\"\\d+\"\n",
    "regex2 = r\"c\\d+\"\n",
    "A = np.zeros((1000,10000)) #1.000x10.000 matrix"
   ]
  },
  {
   "cell_type": "code",
   "execution_count": 5,
   "metadata": {
    "collapsed": true,
    "deletable": true,
    "editable": true
   },
   "outputs": [],
   "source": [
    "#load data\n",
    "with open(\"data_train.csv\") as csvfile:\n",
    "\treadCSV = csv.reader(csvfile,delimiter=',')\n",
    "\tnext(readCSV) #discard header\n",
    "\tfor row in readCSV:\n",
    "\t\tmatch = re.search(regex1,row[0])\n",
    "\t\tmatch2 = re.search(regex2,row[0])\n",
    "\t\trow_i = int(match.group(0))-1\n",
    "\t\tcol_i = int(match2.group(0)[1:]) -1\n",
    "\t\tA[col_i,row_i] = int(row[1])"
   ]
  },
  {
   "cell_type": "code",
   "execution_count": 7,
   "metadata": {
    "collapsed": false,
    "deletable": true,
    "editable": true
   },
   "outputs": [],
   "source": [
    "means = np.mean(A,axis=0)\n",
    "for x in range(A.shape[0]): #x is cols\n",
    "\tfor y in range(A.shape[1]):\n",
    "\t\tif A[x,y]==0:\n",
    "\t\t\tA[x,y] = means[x]"
   ]
  },
  {
   "cell_type": "code",
   "execution_count": 4,
   "metadata": {
    "collapsed": false,
    "deletable": true,
    "editable": true
   },
   "outputs": [],
   "source": []
  },
  {
   "cell_type": "code",
   "execution_count": 8,
   "metadata": {
    "collapsed": false,
    "deletable": true,
    "editable": true
   },
   "outputs": [],
   "source": [
    "#SVD\n",
    "U, D, V = np.linalg.svd(A, full_matrices=False)\n",
    "D = np.diag(D)\n",
    "Uprime = np.dot(U,np.sqrt(D))\n",
    "Vprime = np.dot(np.sqrt(D),V)"
   ]
  },
  {
   "cell_type": "code",
   "execution_count": 11,
   "metadata": {
    "collapsed": false,
    "deletable": true,
    "editable": true
   },
   "outputs": [
    {
     "name": "stdout",
     "output_type": "stream",
     "text": [
      "(1000, 1000) (1000, 1000) (1000, 10000)\n",
      "(1000, 1000) (1000, 10000)\n",
      "True\n"
     ]
    }
   ],
   "source": [
    "print(U.shape, D.shape, V.shape)\n",
    "print(Uprime.shape, Vprime.shape)\n",
    "B = np.dot(U,np.dot(D,V))\n",
    "print(np.isclose(A,B).all())"
   ]
  },
  {
   "cell_type": "code",
   "execution_count": 10,
   "metadata": {
    "collapsed": false,
    "deletable": true,
    "editable": true
   },
   "outputs": [
    {
     "ename": "TypeError",
     "evalue": "a bytes-like object is required, not 'str'",
     "output_type": "error",
     "traceback": [
      "\u001b[0;31m---------------------------------------------------------------------------\u001b[0m",
      "\u001b[0;31mTypeError\u001b[0m                                 Traceback (most recent call last)",
      "\u001b[0;32m<ipython-input-10-6dcce0f0d056>\u001b[0m in \u001b[0;36m<module>\u001b[0;34m()\u001b[0m\n\u001b[1;32m      1\u001b[0m \u001b[0;31m#now lets predict the data from samplesubmission\u001b[0m\u001b[0;34m\u001b[0m\u001b[0;34m\u001b[0m\u001b[0m\n\u001b[1;32m      2\u001b[0m \u001b[0mfout\u001b[0m \u001b[0;34m=\u001b[0m \u001b[0mopen\u001b[0m\u001b[0;34m(\u001b[0m\u001b[0;34m'mysubmission.csv'\u001b[0m\u001b[0;34m,\u001b[0m \u001b[0;34m'wb+'\u001b[0m\u001b[0;34m)\u001b[0m\u001b[0;34m\u001b[0m\u001b[0m\n\u001b[0;32m----> 3\u001b[0;31m \u001b[0mfout\u001b[0m\u001b[0;34m.\u001b[0m\u001b[0mwrite\u001b[0m\u001b[0;34m(\u001b[0m\u001b[0;34m\"Id,Prediction\\n\"\u001b[0m\u001b[0;34m)\u001b[0m\u001b[0;34m\u001b[0m\u001b[0m\n\u001b[0m\u001b[1;32m      4\u001b[0m \u001b[0;32mwith\u001b[0m \u001b[0mopen\u001b[0m\u001b[0;34m(\u001b[0m\u001b[0;34m\"SampleSubmission.csv\"\u001b[0m\u001b[0;34m)\u001b[0m \u001b[0;32mas\u001b[0m \u001b[0mcsvfile\u001b[0m\u001b[0;34m:\u001b[0m\u001b[0;34m\u001b[0m\u001b[0m\n\u001b[1;32m      5\u001b[0m     \u001b[0mreadCSV\u001b[0m \u001b[0;34m=\u001b[0m \u001b[0mcsv\u001b[0m\u001b[0;34m.\u001b[0m\u001b[0mreader\u001b[0m\u001b[0;34m(\u001b[0m\u001b[0mcsvfile\u001b[0m\u001b[0;34m,\u001b[0m\u001b[0mdelimiter\u001b[0m\u001b[0;34m=\u001b[0m\u001b[0;34m','\u001b[0m\u001b[0;34m)\u001b[0m\u001b[0;34m\u001b[0m\u001b[0m\n",
      "\u001b[0;31mTypeError\u001b[0m: a bytes-like object is required, not 'str'"
     ]
    }
   ],
   "source": [
    "#now lets predict the data from samplesubmission\n",
    "fout = open('mysubmission.csv', 'wb+')\n",
    "fout.write(\"Id,Prediction\\n\")\n",
    "with open(\"SampleSubmission.csv\") as csvfile:\n",
    "    readCSV = csv.reader(csvfile,delimiter=',')\n",
    "    next(readCSV) #discard header\n",
    "    for row in readCSV:\n",
    "        match = re.search(regex1,row[0])\n",
    "        match2 = re.search(regex2,row[0])\n",
    "        row_i = int(match.group(0))-1\n",
    "        col_i = int(match2.group(0)[1:]) -1\n",
    "        calc = np.dot(Uprime[col_i,:],Vprime.T[row_i,:])\n",
    "        fout.write(row[0]+\",\"+str(calc)+\"\\n\")"
   ]
  },
  {
   "cell_type": "code",
   "execution_count": null,
   "metadata": {
    "collapsed": true,
    "deletable": true,
    "editable": true
   },
   "outputs": [],
   "source": [
    "#now we need to drop some sigmas to find the underlying structure\n"
   ]
  }
 ],
 "metadata": {
  "anaconda-cloud": {},
  "kernelspec": {
   "display_name": "Python 3",
   "language": "python",
   "name": "python3"
  },
  "language_info": {
   "codemirror_mode": {
    "name": "ipython",
    "version": 3
   },
   "file_extension": ".py",
   "mimetype": "text/x-python",
   "name": "python",
   "nbconvert_exporter": "python",
   "pygments_lexer": "ipython3",
   "version": "3.6.0"
  }
 },
 "nbformat": 4,
 "nbformat_minor": 2
}
