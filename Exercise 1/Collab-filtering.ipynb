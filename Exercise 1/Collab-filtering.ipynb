{
 "cells": [
  {
   "cell_type": "code",
   "execution_count": 1,
   "metadata": {
    "collapsed": true,
    "deletable": true,
    "editable": true
   },
   "outputs": [],
   "source": [
    "import csv\n",
    "import numpy as np\n",
    "import re\n",
    "import matplotlib.pyplot as plt\n",
    "\n",
    "regex1 = r\"\\d+\"\n",
    "regex2 = r\"c\\d+\"\n",
    "A = np.zeros((1000,10000)) #1.000x10.000 matrix"
   ]
  },
  {
   "cell_type": "code",
   "execution_count": 2,
   "metadata": {
    "collapsed": true,
    "deletable": true,
    "editable": true
   },
   "outputs": [],
   "source": [
    "#load data\n",
    "with open(\"data_train.csv\") as csvfile:\n",
    "\treadCSV = csv.reader(csvfile,delimiter=',')\n",
    "\tnext(readCSV) #discard header\n",
    "\tfor row in readCSV:\n",
    "\t\tmatch = re.search(regex1,row[0])\n",
    "\t\tmatch2 = re.search(regex2,row[0])\n",
    "\t\trow_i = int(match.group(0))-1\n",
    "\t\tcol_i = int(match2.group(0)[1:]) -1\n",
    "\t\tA[col_i,row_i] = int(row[1])"
   ]
  },
  {
   "cell_type": "code",
   "execution_count": 3,
   "metadata": {
    "collapsed": false,
    "deletable": true,
    "editable": true
   },
   "outputs": [],
   "source": [
    "means = np.average(A, axis=1, weights=A.astype(bool))\n",
    "totalmean = np.mean(means)"
   ]
  },
  {
   "cell_type": "code",
   "execution_count": 4,
   "metadata": {
    "collapsed": true,
    "deletable": true,
    "editable": true
   },
   "outputs": [],
   "source": [
    "K = 25\n",
    "sums = np.sum(A,axis=0)\n",
    "bettermean = [(totalmean*K + sums[i])/(K+10000) for i in range(means.shape[0])]\n",
    "for x in range(A.shape[0]): #x is cols\n",
    "\tfor y in range(A.shape[1]):\n",
    "\t\tif A[x,y]==0:\n",
    "\t\t\tA[x,y] = means[x]"
   ]
  },
  {
   "cell_type": "code",
   "execution_count": 5,
   "metadata": {
    "collapsed": false,
    "deletable": true,
    "editable": true
   },
   "outputs": [
    {
     "name": "stdout",
     "output_type": "stream",
     "text": [
      "(1000,)\n"
     ]
    },
    {
     "data": {
      "image/png": "[encoded data removed]",
      "text/plain": [
       "<matplotlib.figure.Figure at 0x105eed9b0>"
      ]
     },
     "metadata": {},
     "output_type": "display_data"
    }
   ],
   "source": [
    "#SVD\n",
    "U, D, V = np.linalg.svd(A, full_matrices=False)\n",
    "print(D.shape)\n",
    "plt.plot(D[1:130])\n",
    "plt.show()"
   ]
  },
  {
   "cell_type": "code",
   "execution_count": 6,
   "metadata": {
    "collapsed": true,
    "deletable": true,
    "editable": true
   },
   "outputs": [],
   "source": [
    "dim = 25\n",
    "total = 1000-dim\n",
    "D = np.append(D[0:dim],np.zeros((total)))"
   ]
  },
  {
   "cell_type": "code",
   "execution_count": 7,
   "metadata": {
    "collapsed": false,
    "deletable": true,
    "editable": true
   },
   "outputs": [
    {
     "name": "stdout",
     "output_type": "stream",
     "text": [
      "(1000, 1000)\n"
     ]
    }
   ],
   "source": [
    "D = np.diag(D)\n",
    "\n",
    "print(D.shape)\n",
    "\n",
    "Uprime = np.dot(U,np.sqrt(D))\n",
    "Vprime = np.dot(np.sqrt(D),V)"
   ]
  },
  {
   "cell_type": "code",
   "execution_count": 8,
   "metadata": {
    "collapsed": false,
    "deletable": true,
    "editable": true
   },
   "outputs": [
    {
     "name": "stdout",
     "output_type": "stream",
     "text": [
      "(1000, 1000) (1000, 1000) (1000, 10000)\n",
      "(1000, 1000) (1000, 10000)\n",
      "False\n"
     ]
    }
   ],
   "source": [
    "print(U.shape, D.shape, V.shape)\n",
    "print(Uprime.shape, Vprime.shape)\n",
    "B = np.dot(U,np.dot(D,V))\n",
    "print(np.isclose(A,B).all())\n",
    "low_values_indices = A < 0  # Where values are low\n",
    "A[low_values_indices] = 0  # All low values set to 0"
   ]
  },
  {
   "cell_type": "code",
   "execution_count": 9,
   "metadata": {
    "collapsed": false,
    "deletable": true,
    "editable": true
   },
   "outputs": [],
   "source": [
    "#now lets predict the data from samplesubmission\n",
    "fout = open('mysubmission.csv', 'w')\n",
    "fout.write(\"Id,Prediction\\n\")\n",
    "with open(\"SampleSubmission.csv\") as csvfile:\n",
    "    readCSV = csv.reader(csvfile,delimiter=',')\n",
    "    next(readCSV) #discard header\n",
    "    for row in readCSV:\n",
    "        match = re.search(regex1,row[0])\n",
    "        match2 = re.search(regex2,row[0])\n",
    "        row_i = int(match.group(0))-1\n",
    "        col_i = int(match2.group(0)[1:]) -1\n",
    "        calc = np.dot(Uprime[col_i,:],Vprime.T[row_i,:])\n",
    "        A[col_i,row_i] = calc\n",
    "        fout.write(row[0]+\",\"+str(calc)+\"\\n\")\n",
    "    fout.close()"
   ]
  },
  {
   "cell_type": "code",
   "execution_count": null,
   "metadata": {
    "collapsed": true,
    "deletable": true,
    "editable": true
   },
   "outputs": [],
   "source": []
  }
 ],
 "metadata": {
  "anaconda-cloud": {},
  "kernelspec": {
   "display_name": "Python 3",
   "language": "python",
   "name": "python3"
  },
  "language_info": {
   "codemirror_mode": {
    "name": "ipython",
    "version": 3
   },
   "file_extension": ".py",
   "mimetype": "text/x-python",
   "name": "python",
   "nbconvert_exporter": "python",
   "pygments_lexer": "ipython3",
   "version": "3.6.0"
  }
 },
 "nbformat": 4,
 "nbformat_minor": 2
}
