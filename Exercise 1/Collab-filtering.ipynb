{
 "cells": [
  {
   "cell_type": "code",
   "execution_count": 58,
   "metadata": {
    "collapsed": true,
    "deletable": true,
    "editable": true
   },
   "outputs": [],
   "source": [
    "import csv\n",
    "import numpy as np\n",
    "import re\n",
    "import matplotlib.pyplot as plt\n",
    "\n",
    "regex1 = r\"\\d+\"\n",
    "regex2 = r\"c\\d+\"\n",
    "A = np.zeros((1000,10000)) #1.000x10.000 matrix"
   ]
  },
  {
   "cell_type": "code",
   "execution_count": 59,
   "metadata": {
    "collapsed": true,
    "deletable": true,
    "editable": true
   },
   "outputs": [],
   "source": [
    "#load data\n",
    "with open(\"data_train.csv\") as csvfile:\n",
    "\treadCSV = csv.reader(csvfile,delimiter=',')\n",
    "\tnext(readCSV) #discard header\n",
    "\tfor row in readCSV:\n",
    "\t\tmatch = re.search(regex1,row[0])\n",
    "\t\tmatch2 = re.search(regex2,row[0])\n",
    "\t\trow_i = int(match.group(0))-1\n",
    "\t\tcol_i = int(match2.group(0)[1:]) -1\n",
    "\t\tA[col_i,row_i] = int(row[1])"
   ]
  },
  {
   "cell_type": "code",
   "execution_count": 80,
   "metadata": {
    "collapsed": false,
    "deletable": true,
    "editable": true
   },
   "outputs": [],
   "source": [
    "means = np.mean(A,axis=1)\n",
    "totalmean = np.mean(means)\n",
    "K = 25\n",
    "sums = np.sum(A,axis=1)\n",
    "bettermean = [(totalmean*K + sums[i])/(K+10000) for i in range(means.shape[0])]\n",
    "for x in range(A.shape[0]): #x is cols\n",
    "\tfor y in range(A.shape[1]):\n",
    "\t\tif A[x,y]==0:\n",
    "\t\t\tA[x,y] = bettermean[x]"
   ]
  },
  {
   "cell_type": "code",
   "execution_count": 19,
   "metadata": {
    "collapsed": false,
    "deletable": true,
    "editable": true
   },
   "outputs": [
    {
     "name": "stdout",
     "output_type": "stream",
     "text": [
      "(1000,)\n"
     ]
    },
    {
     "data": {
      "image/png": "[encoded data removed]",
      "text/plain": [
       "<matplotlib.figure.Figure at 0x116d1a128>"
      ]
     },
     "metadata": {},
     "output_type": "display_data"
    }
   ],
   "source": [
    "#SVD\n",
    "U, D, V = np.linalg.svd(A, full_matrices=False)\n",
    "print(D.shape)\n",
    "plt.plot(D[1:])\n",
    "plt.show()"
   ]
  },
  {
   "cell_type": "code",
   "execution_count": 20,
   "metadata": {
    "collapsed": true,
    "deletable": true,
    "editable": true
   },
   "outputs": [],
   "source": [
    "dim = 100\n",
    "total = 1000-dim\n",
    "D = np.append(D[0:dim],np.zeros((total)))"
   ]
  },
  {
   "cell_type": "code",
   "execution_count": 21,
   "metadata": {
    "collapsed": false,
    "deletable": true,
    "editable": true
   },
   "outputs": [
    {
     "name": "stdout",
     "output_type": "stream",
     "text": [
      "[ 3127.52252159   399.80258842   368.67171762   321.35920395   305.79154771\n",
      "   264.46835928   253.96903      241.75409776   235.44005047   225.9357613\n",
      "   223.83480829   220.29253871   219.90582082   215.52262089   214.42211913\n",
      "   212.49009079   211.87875771   211.02938625   210.38101159   208.88843409\n",
      "     0.             0.             0.             0.             0.             0.\n",
      "     0.             0.             0.             0.             0.             0.\n",
      "     0.             0.             0.             0.             0.             0.\n",
      "     0.             0.             0.             0.             0.             0.\n",
      "     0.             0.             0.             0.             0.             0.\n",
      "     0.             0.             0.             0.             0.             0.\n",
      "     0.             0.             0.             0.             0.             0.\n",
      "     0.             0.             0.             0.             0.             0.\n",
      "     0.             0.             0.             0.             0.             0.\n",
      "     0.             0.             0.             0.             0.             0.\n",
      "     0.             0.             0.             0.             0.             0.\n",
      "     0.             0.             0.             0.             0.             0.\n",
      "     0.             0.             0.             0.             0.             0.\n",
      "     0.             0.             0.             0.             0.             0.\n",
      "     0.             0.             0.             0.             0.             0.\n",
      "     0.             0.             0.             0.             0.             0.\n",
      "     0.             0.             0.             0.             0.             0.\n",
      "     0.             0.             0.             0.             0.             0.\n",
      "     0.             0.             0.             0.             0.             0.\n",
      "     0.             0.             0.             0.             0.             0.\n",
      "     0.             0.             0.             0.             0.             0.\n",
      "     0.             0.             0.             0.             0.             0.\n",
      "     0.             0.             0.             0.             0.             0.\n",
      "     0.             0.             0.             0.             0.             0.\n",
      "     0.             0.             0.             0.             0.             0.\n",
      "     0.             0.             0.             0.             0.             0.\n",
      "     0.             0.             0.             0.             0.             0.\n",
      "     0.             0.             0.             0.             0.             0.\n",
      "     0.             0.             0.             0.             0.             0.\n",
      "     0.             0.             0.             0.             0.             0.\n",
      "     0.             0.             0.             0.             0.             0.\n",
      "     0.             0.             0.             0.             0.             0.\n",
      "     0.             0.             0.             0.             0.             0.\n",
      "     0.             0.             0.             0.             0.             0.\n",
      "     0.             0.             0.             0.             0.             0.\n",
      "     0.             0.             0.             0.             0.             0.\n",
      "     0.             0.             0.             0.             0.             0.\n",
      "     0.             0.             0.             0.             0.             0.\n",
      "     0.             0.             0.             0.             0.             0.\n",
      "     0.             0.             0.             0.             0.             0.\n",
      "     0.             0.             0.             0.             0.             0.\n",
      "     0.             0.             0.             0.             0.             0.\n",
      "     0.             0.             0.             0.             0.             0.\n",
      "     0.             0.             0.             0.             0.             0.\n",
      "     0.             0.             0.             0.             0.             0.\n",
      "     0.             0.             0.             0.             0.             0.\n",
      "     0.             0.             0.             0.             0.             0.\n",
      "     0.             0.             0.             0.             0.             0.\n",
      "     0.             0.             0.             0.             0.             0.\n",
      "     0.             0.             0.             0.             0.             0.\n",
      "     0.             0.             0.             0.             0.             0.\n",
      "     0.             0.             0.             0.             0.             0.\n",
      "     0.             0.             0.             0.             0.             0.\n",
      "     0.             0.             0.             0.             0.             0.\n",
      "     0.             0.             0.             0.             0.             0.\n",
      "     0.             0.             0.             0.             0.             0.\n",
      "     0.             0.             0.             0.             0.             0.\n",
      "     0.             0.             0.             0.             0.             0.\n",
      "     0.             0.             0.             0.             0.             0.\n",
      "     0.             0.             0.             0.             0.             0.\n",
      "     0.             0.             0.             0.             0.             0.\n",
      "     0.             0.             0.             0.             0.             0.\n",
      "     0.             0.             0.             0.             0.             0.\n",
      "     0.             0.             0.             0.             0.             0.\n",
      "     0.             0.             0.             0.             0.             0.\n",
      "     0.             0.             0.             0.             0.             0.\n",
      "     0.             0.             0.             0.             0.             0.\n",
      "     0.             0.             0.             0.             0.             0.\n",
      "     0.             0.             0.             0.             0.             0.\n",
      "     0.             0.             0.             0.             0.             0.\n",
      "     0.             0.             0.             0.             0.             0.\n",
      "     0.             0.             0.             0.             0.             0.\n",
      "     0.             0.             0.             0.             0.             0.\n",
      "     0.             0.             0.             0.             0.             0.\n",
      "     0.             0.             0.             0.             0.             0.\n",
      "     0.             0.             0.             0.             0.             0.\n",
      "     0.             0.             0.             0.             0.             0.\n",
      "     0.             0.             0.             0.             0.             0.\n",
      "     0.             0.             0.             0.             0.             0.\n",
      "     0.             0.             0.             0.             0.             0.\n",
      "     0.             0.             0.             0.             0.             0.\n",
      "     0.             0.             0.             0.             0.             0.\n",
      "     0.             0.             0.             0.             0.             0.\n",
      "     0.             0.             0.             0.             0.             0.\n",
      "     0.             0.             0.             0.             0.             0.\n",
      "     0.             0.             0.             0.             0.             0.\n",
      "     0.             0.             0.             0.             0.             0.\n",
      "     0.             0.             0.             0.             0.             0.\n",
      "     0.             0.             0.             0.             0.             0.\n",
      "     0.             0.             0.             0.             0.             0.\n",
      "     0.             0.             0.             0.             0.             0.\n",
      "     0.             0.             0.             0.             0.             0.\n",
      "     0.             0.             0.             0.             0.             0.\n",
      "     0.             0.             0.             0.             0.             0.\n",
      "     0.             0.             0.             0.             0.             0.\n",
      "     0.             0.             0.             0.             0.             0.\n",
      "     0.             0.             0.             0.             0.             0.\n",
      "     0.             0.             0.             0.             0.             0.\n",
      "     0.             0.             0.             0.             0.             0.\n",
      "     0.             0.             0.             0.             0.             0.\n",
      "     0.             0.             0.             0.             0.             0.\n",
      "     0.             0.             0.             0.             0.             0.\n",
      "     0.             0.             0.             0.             0.             0.\n",
      "     0.             0.             0.             0.             0.             0.\n",
      "     0.             0.             0.             0.             0.             0.\n",
      "     0.             0.             0.             0.             0.             0.\n",
      "     0.             0.             0.             0.             0.             0.\n",
      "     0.             0.             0.             0.             0.             0.\n",
      "     0.             0.             0.             0.             0.             0.\n",
      "     0.             0.             0.             0.             0.             0.\n",
      "     0.             0.             0.             0.             0.             0.\n",
      "     0.             0.             0.             0.             0.             0.\n",
      "     0.             0.             0.             0.             0.             0.\n",
      "     0.             0.             0.             0.             0.             0.\n",
      "     0.             0.             0.             0.             0.             0.\n",
      "     0.             0.             0.             0.             0.             0.\n",
      "     0.             0.             0.             0.             0.             0.\n",
      "     0.             0.             0.             0.             0.             0.\n",
      "     0.             0.             0.             0.             0.             0.\n",
      "     0.             0.             0.             0.             0.             0.\n",
      "     0.             0.             0.             0.             0.             0.\n",
      "     0.             0.             0.             0.             0.             0.\n",
      "     0.             0.             0.             0.             0.             0.\n",
      "     0.             0.             0.             0.             0.             0.\n",
      "     0.             0.             0.             0.             0.             0.\n",
      "     0.             0.             0.             0.             0.             0.\n",
      "     0.             0.             0.             0.             0.             0.\n",
      "     0.             0.             0.             0.             0.             0.\n",
      "     0.             0.             0.             0.             0.             0.\n",
      "     0.             0.             0.             0.             0.             0.\n",
      "     0.             0.             0.             0.             0.             0.\n",
      "     0.             0.             0.             0.             0.             0.\n",
      "     0.             0.             0.             0.             0.             0.\n",
      "     0.             0.             0.             0.             0.             0.\n",
      "     0.             0.             0.             0.             0.             0.\n",
      "     0.             0.             0.             0.             0.             0.\n",
      "     0.             0.             0.             0.             0.             0.\n",
      "     0.             0.             0.             0.             0.             0.\n",
      "     0.             0.             0.             0.             0.             0.\n",
      "     0.             0.             0.             0.             0.             0.\n",
      "     0.             0.             0.             0.             0.             0.\n",
      "     0.             0.             0.             0.             0.             0.\n",
      "     0.             0.             0.             0.             0.             0.\n",
      "     0.             0.             0.             0.             0.             0.\n",
      "     0.             0.             0.             0.             0.             0.\n",
      "     0.             0.             0.             0.             0.             0.\n",
      "     0.             0.             0.             0.             0.             0.\n",
      "     0.             0.             0.             0.             0.             0.\n",
      "     0.             0.             0.             0.             0.             0.\n",
      "     0.             0.             0.             0.             0.             0.\n",
      "     0.             0.             0.             0.             0.             0.\n",
      "     0.             0.             0.             0.             0.             0.\n",
      "     0.             0.             0.             0.             0.             0.\n",
      "     0.             0.             0.             0.             0.             0.\n",
      "     0.             0.             0.             0.             0.             0.\n",
      "     0.             0.             0.             0.             0.             0.\n",
      "     0.             0.             0.             0.             0.             0.\n",
      "     0.             0.             0.             0.             0.             0.\n",
      "     0.             0.             0.             0.             0.             0.\n",
      "     0.             0.             0.             0.             0.             0.\n",
      "     0.             0.             0.             0.             0.             0.\n",
      "     0.             0.             0.             0.             0.             0.\n",
      "     0.             0.             0.             0.             0.             0.\n",
      "     0.             0.        ]\n",
      "(1000, 1000)\n"
     ]
    }
   ],
   "source": [
    "print(D)\n",
    "D = np.diag(D)\n",
    "\n",
    "print(D.shape)\n",
    "\n",
    "Uprime = np.dot(U,np.sqrt(D))\n",
    "Vprime = np.dot(np.sqrt(D),V)"
   ]
  },
  {
   "cell_type": "code",
   "execution_count": 22,
   "metadata": {
    "collapsed": false,
    "deletable": true,
    "editable": true
   },
   "outputs": [
    {
     "name": "stdout",
     "output_type": "stream",
     "text": [
      "(1000, 1000) (1000, 1000) (1000, 10000)\n",
      "(1000, 1000) (1000, 10000)\n",
      "False\n"
     ]
    }
   ],
   "source": [
    "print(U.shape, D.shape, V.shape)\n",
    "print(Uprime.shape, Vprime.shape)\n",
    "B = np.dot(U,np.dot(D,V))\n",
    "print(np.isclose(A,B).all())"
   ]
  },
  {
   "cell_type": "code",
   "execution_count": 24,
   "metadata": {
    "collapsed": false,
    "deletable": true,
    "editable": true
   },
   "outputs": [],
   "source": [
    "#now lets predict the data from samplesubmission\n",
    "fout = open('mysubmission.csv', 'w')\n",
    "fout.write(\"Id,Prediction\\n\")\n",
    "with open(\"SampleSubmission.csv\") as csvfile:\n",
    "    readCSV = csv.reader(csvfile,delimiter=',')\n",
    "    next(readCSV) #discard header\n",
    "    for row in readCSV:\n",
    "        match = re.search(regex1,row[0])\n",
    "        match2 = re.search(regex2,row[0])\n",
    "        row_i = int(match.group(0))-1\n",
    "        col_i = int(match2.group(0)[1:]) -1\n",
    "        calc = np.dot(Uprime[col_i,:],Vprime.T[row_i,:])\n",
    "        A[col_i,row_i] = calc\n",
    "        fout.write(row[0]+\",\"+str(calc)+\"\\n\")\n",
    "    fout.close()"
   ]
  },
  {
   "cell_type": "code",
   "execution_count": null,
   "metadata": {
    "collapsed": true,
    "deletable": true,
    "editable": true
   },
   "outputs": [],
   "source": [
    "#now we need to drop some sigmas to find the underlying structure\n"
   ]
  }
 ],
 "metadata": {
  "anaconda-cloud": {},
  "kernelspec": {
   "display_name": "Python 3",
   "language": "python",
   "name": "python3"
  },
  "language_info": {
   "codemirror_mode": {
    "name": "ipython",
    "version": 3
   },
   "file_extension": ".py",
   "mimetype": "text/x-python",
   "name": "python",
   "nbconvert_exporter": "python",
   "pygments_lexer": "ipython3",
   "version": "3.6.0"
  }
 },
 "nbformat": 4,
 "nbformat_minor": 2
}
