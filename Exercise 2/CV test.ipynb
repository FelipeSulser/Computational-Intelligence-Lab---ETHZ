{
 "cells": [
  {
   "cell_type": "code",
   "execution_count": 37,
   "metadata": {
    "collapsed": false
   },
   "outputs": [],
   "source": [
    "# test for CV function\n",
    "\n",
    "import csv\n",
    "import numpy as np\n",
    "import re\n",
    "import matplotlib.pyplot as plt\n",
    "\n",
    "\n",
    "import pandas as pd\n",
    "%matplotlib inline\n",
    "\n",
    "regex1 = r\"\\d+\"\n",
    "regex2 = r\"c\\d+\"\n",
    "X = np.zeros((10000,1000)) #1.000x10.000 matrix\n",
    "\n",
    "#load data\n",
    "with open(\"../Exercise 1/data_train.csv\") as csvfile:\n",
    "    readCSV = csv.reader(csvfile,delimiter=',')\n",
    "    next(readCSV) #discard header\n",
    "    for row in readCSV:\n",
    "        match = re.search(regex1,row[0])\n",
    "        match2 = re.search(regex2,row[0])\n",
    "        row_i = int(match.group(0))-1\n",
    "        col_i = int(match2.group(0)[1:]) -1\n",
    "        X[row_i,col_i] = int(row[1])\n",
    "        \n"
   ]
  },
  {
   "cell_type": "code",
   "execution_count": 53,
   "metadata": {
    "collapsed": false
   },
   "outputs": [
    {
     "name": "stdout",
     "output_type": "stream",
     "text": [
      "X has  1176952  non-zeros.\n",
      "X_train has  941561  non-zeros.\n",
      "X_test has  235391  non-zeros.\n",
      "X_train has  941561  non-zeros.\n",
      "X_test has  235391  non-zeros.\n",
      "X_train has  941562  non-zeros.\n",
      "X_test has  235390  non-zeros.\n",
      "X_train has  941562  non-zeros.\n",
      "X_test has  235390  non-zeros.\n",
      "X_train has  941562  non-zeros.\n",
      "X_test has  235390  non-zeros.\n"
     ]
    }
   ],
   "source": [
    "print 'X has ', np.count_nonzero(X), ' non-zeros.'\n",
    "\n",
    "def cv(X, k=5):\n",
    "    # split indices of nonz-zero values in k sets but randomly!\n",
    "    nzR, nzC = np.nonzero(X)\n",
    "    zipped = zip(nzR,nzC)\n",
    "    np.random.shuffle(zipped)\n",
    "    nzR, nzC = zip(*zipped)\n",
    "    nzRsplit = np.array_split(nzR, k)\n",
    "    nzCsplit = np.array_split(nzC, k)\n",
    "     \n",
    "    X_train_sets = []\n",
    "    X_test_sets = []\n",
    "    for i in range(k):\n",
    "        X_train = np.copy(X)\n",
    "        X_train[(nzRsplit[i], nzCsplit[i])] = 0\n",
    "        print 'X_train has ', np.count_nonzero(X_train), ' non-zeros.'\n",
    "        X_train_sets.append(X_train)\n",
    "    \n",
    "        X_test = np.zeros(X.shape)\n",
    "        X_test[(nzRsplit[i], nzCsplit[i])] = X[(nzRsplit[i], nzCsplit[i])]\n",
    "        print 'X_test has ', np.count_nonzero(X_test), ' non-zeros.'\n",
    "        X_test_sets.append(X_test)\n",
    "        \n",
    "        \n",
    "        \n",
    "\n",
    "#testarr = np.array([[1,2,3], [0,5,6], [0,0,2]])\n",
    "cv(X,5)"
   ]
  },
  {
   "cell_type": "code",
   "execution_count": 49,
   "metadata": {
    "collapsed": false
   },
   "outputs": [
    {
     "name": "stdout",
     "output_type": "stream",
     "text": [
      "[[ 0  1  2  3]\n",
      " [ 4  5  6  7]\n",
      " [ 8  9 10 11]]\n"
     ]
    }
   ],
   "source": [
    "testarr = np.arange(12).reshape(3,4)\n",
    "print testarr\n"
   ]
  }
 ],
 "metadata": {
  "kernelspec": {
   "display_name": "Python 2",
   "language": "python",
   "name": "python2"
  },
  "language_info": {
   "codemirror_mode": {
    "name": "ipython",
    "version": 2
   },
   "file_extension": ".py",
   "mimetype": "text/x-python",
   "name": "python",
   "nbconvert_exporter": "python",
   "pygments_lexer": "ipython2",
   "version": "2.7.12"
  }
 },
 "nbformat": 4,
 "nbformat_minor": 1
}
