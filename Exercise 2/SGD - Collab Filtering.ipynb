{
 "cells": [
  {
   "cell_type": "code",
   "execution_count": 10,
   "metadata": {
    "collapsed": false,
    "deletable": true,
    "editable": true
   },
   "outputs": [],
   "source": [
    "import csv\n",
    "import numpy as np\n",
    "import re\n",
    "import matplotlib.pyplot as plt\n",
    "import gc\n",
    "import pandas as pd\n",
    "%matplotlib inline\n",
    "\n",
    "regex1 = r\"\\d+\"\n",
    "regex2 = r\"c\\d+\"\n",
    "X = np.zeros((10000,1000)) #1.000x10.000 matrix"
   ]
  },
  {
   "cell_type": "code",
   "execution_count": 11,
   "metadata": {
    "collapsed": false,
    "deletable": true,
    "editable": true
   },
   "outputs": [],
   "source": [
    "#load data\n",
    "with open(\"../Exercise 1/data_train.csv\") as csvfile:\n",
    "    readCSV = csv.reader(csvfile,delimiter=',')\n",
    "    next(readCSV) #discard header\n",
    "    for row in readCSV:\n",
    "        match = re.search(regex1,row[0])\n",
    "        match2 = re.search(regex2,row[0])\n",
    "        row_i = int(match.group(0))-1\n",
    "        col_i = int(match2.group(0)[1:]) -1\n",
    "        X[row_i,col_i] = int(row[1])"
   ]
  },
  {
   "cell_type": "code",
   "execution_count": 12,
   "metadata": {
    "collapsed": false,
    "deletable": true,
    "editable": true
   },
   "outputs": [],
   "source": [
    "# returns array of training data and an array of test data\n",
    "def cv(X, k=5):\n",
    "    # split indices of nonz-zero values in k sets but randomly!\n",
    "    nzR, nzC = np.nonzero(X)\n",
    "    zipped = list(zip(nzR,nzC))\n",
    "    np.random.shuffle(zipped)\n",
    "    nzR, nzC = zip(*zipped)\n",
    "    nzRsplit = np.array_split(nzR, k)\n",
    "    nzCsplit = np.array_split(nzC, k)\n",
    "     \n",
    "    X_train_sets = []\n",
    "    X_test_sets = []\n",
    "    for i in range(k):\n",
    "        X_train = np.copy(X)\n",
    "        X_train[(nzRsplit[i], nzCsplit[i])] = 0\n",
    "        print('X_train has ', np.count_nonzero(X_train), ' non-zeros.')\n",
    "        X_train_sets.append(X_train)\n",
    "    \n",
    "        X_test = np.zeros(X.shape)\n",
    "        X_test[(nzRsplit[i], nzCsplit[i])] = X[(nzRsplit[i], nzCsplit[i])]\n",
    "        print('X_test has ', np.count_nonzero(X_test), ' non-zeros.')\n",
    "        X_test_sets.append(X_test)\n",
    "        \n",
    "    return X_train_sets, X_test_sets"
   ]
  },
  {
   "cell_type": "code",
   "execution_count": 13,
   "metadata": {
    "collapsed": true,
    "deletable": true,
    "editable": true
   },
   "outputs": [],
   "source": [
    "def rmse(I,X,Z,U):\n",
    "    return np.sqrt(np.sum((I * (X - np.dot(U,Z.T)))**2)/len(X[X > 0]))"
   ]
  },
  {
   "cell_type": "code",
   "execution_count": 15,
   "metadata": {
    "collapsed": false,
    "deletable": true,
    "editable": true
   },
   "outputs": [
    {
     "name": "stdout",
     "output_type": "stream",
     "text": [
      "X:  (10000, 1000)\n"
     ]
    },
    {
     "data": {
      "text/plain": [
       "5411"
      ]
     },
     "execution_count": 15,
     "metadata": {},
     "output_type": "execute_result"
    }
   ],
   "source": [
    "D,N = X.shape\n",
    "print('X: ',X.shape)\n",
    "K = 50\n",
    "U = np.random.rand(D,K)\n",
    "Z = np.random.rand(N,K)\n",
    "n_epochs = 30\n",
    "lmda = 0.00001       \n",
    "gamma = 0.0001       # step size\n",
    "\n",
    "train_errors = {k: [] for k in range(n_epochs)}\n",
    "test_errors = {k: [] for k in range(n_epochs)}\n",
    "gc.collect()\n",
    "#for it in range(5):\n",
    "#    for epoch in range(n_epochs):\n",
    "#        train_errors[epoch].append(it*epoch)           \n",
    "#for epoch in range(n_epochs):\n",
    "#    print 'epoch: ', epoch, ', ', train_errors[epoch]"
   ]
  },
  {
   "cell_type": "code",
   "execution_count": 16,
   "metadata": {
    "collapsed": false,
    "deletable": true,
    "editable": true
   },
   "outputs": [
    {
     "name": "stdout",
     "output_type": "stream",
     "text": [
      "X_train has  941561  non-zeros.\n",
      "X_test has  235391  non-zeros.\n",
      "X_train has  941561  non-zeros.\n",
      "X_test has  235391  non-zeros.\n",
      "X_train has  941562  non-zeros.\n",
      "X_test has  235390  non-zeros.\n",
      "X_train has  941562  non-zeros.\n",
      "X_test has  235390  non-zeros.\n",
      "X_train has  941562  non-zeros.\n",
      "X_test has  235390  non-zeros.\n",
      "CV iter =  0\n",
      "CV iter =  1\n",
      "CV iter =  2\n",
      "CV iter =  3\n",
      "CV iter =  4\n"
     ]
    }
   ],
   "source": [
    "X_train_set, X_test_set = cv(X, k=5)\n",
    "count = 0\n",
    "for X_train, X_test in zip(X_train_set, X_test_set):\n",
    "    I = X_train.copy()\n",
    "    I[I > 0] = 1\n",
    "    I2 = X_test.copy()\n",
    "    I2[I2 > 0] = 1\n",
    "    \n",
    "    #DO SGD\n",
    "    ds,ns = X_train.nonzero()\n",
    "    #print 'Users: ',users.shape\n",
    "    #print 'Movies: ', movies.shape\n",
    "\n",
    "    print('CV iter = ', count)\n",
    "    for epoch in range(n_epochs):\n",
    "        for d, n in zip(ds,ns):\n",
    "            gamma = 0.001*(1.0/(np.sqrt(epoch+1.0)))\n",
    "            #e = R[u, i] - prediction(U[:,u],Z[:,i])\n",
    "            e = X_train[d, n] - np.dot(U[d,:],Z[n,:].T)\n",
    "            U[d,:] += gamma * ( e * Z[n,:].T - lmda*U[d,:] )\n",
    "            Z[n,:] += gamma * ( e * U[d,:] - lmda*Z[n,:] )\n",
    "        # TODO: correct rmse function\n",
    "        train_rmse = rmse(I,X_train,Z,U) # Calculate root mean squared error from train dataset\n",
    "        test_rmse = rmse(I2,X_test,Z,U) # Calculate root mean squared error from test dataset\n",
    "        train_errors[epoch].append(train_rmse)\n",
    "        test_errors[epoch].append(test_rmse)\n",
    "        \n",
    "    count += 1\n",
    "    gc.collect()\n",
    "    #if count >= 2:\n",
    "    #    break"
   ]
  },
  {
   "cell_type": "code",
   "execution_count": 17,
   "metadata": {
    "collapsed": false,
    "deletable": true,
    "editable": true
   },
   "outputs": [
    {
     "name": "stdout",
     "output_type": "stream",
     "text": [
      "30\n",
      "30\n",
      "30\n"
     ]
    }
   ],
   "source": [
    "tr_err = []\n",
    "ts_err = []\n",
    "#for epoch in range(n_epochs):\n",
    "#    print train_errors[epoch]\n",
    "#    print test_errors[epoch]\n",
    "for epoch in range(n_epochs):\n",
    "    tr_err.append( np.mean(train_errors[epoch]) )\n",
    "    ts_err.append( np.mean(test_errors[epoch]) )\n",
    "    \n",
    "print(len(tr_err))   \n",
    "print(len(ts_err))\n",
    "print(len(range(n_epochs)))"
   ]
  },
  {
   "cell_type": "code",
   "execution_count": 18,
   "metadata": {
    "collapsed": false,
    "deletable": true,
    "editable": true
   },
   "outputs": [
    {
     "data": {
      "image/png": "[encoded data removed]",
      "text/plain": [
       "<matplotlib.figure.Figure at 0x7f0f941db9b0>"
      ]
     },
     "metadata": {},
     "output_type": "display_data"
    }
   ],
   "source": [
    "#for epoch in range(n_epochs):\n",
    "#    train_errors[epoch] = np.mean(train_errors[epoch])\n",
    "#    test_errors[epoch] = np.mean(test_errors[epoch])\n",
    "\n",
    "\n",
    "plt.plot(range(n_epochs), tr_err, marker='o', label='Training Data');\n",
    "plt.plot(range(n_epochs), ts_err, marker='v', label='Test Data');\n",
    "plt.title('SGD Learning Curve')\n",
    "plt.xlabel('Number of Epochs');\n",
    "plt.ylabel('RMSE');\n",
    "plt.legend()\n",
    "plt.grid()\n",
    "plt.show()"
   ]
  },
  {
   "cell_type": "code",
   "execution_count": null,
   "metadata": {
    "collapsed": true,
    "deletable": true,
    "editable": true
   },
   "outputs": [],
   "source": [
    "#now lets predict the data from samplesubmission\n",
    "fout = open('mysubmission.csv', 'w')\n",
    "fout.write(\"Id,Prediction\\n\")\n",
    "with open(\"SampleSubmission.csv\") as csvfile:\n",
    "    readCSV = csv.reader(csvfile,delimiter=',')\n",
    "    next(readCSV) #discard header\n",
    "    for row in readCSV:\n",
    "        match = re.search(regex1,row[0])\n",
    "        match2 = re.search(regex2,row[0])\n",
    "        row_i = int(match.group(0))-1\n",
    "        col_i = int(match2.group(0)[1:]) -1\n",
    "        calc = prediction(U[:,row_i], Z[:,col_i])\n",
    "        print(calc)\n",
    "        fout.write(row[0]+\",\"+str(calc)+\"\\n\")\n",
    "    fout.close()"
   ]
  },
  {
   "cell_type": "code",
   "execution_count": null,
   "metadata": {
    "collapsed": true,
    "deletable": true,
    "editable": true
   },
   "outputs": [],
   "source": []
  }
 ],
 "metadata": {
  "kernelspec": {
   "display_name": "Python 3",
   "language": "python",
   "name": "python3"
  },
  "language_info": {
   "codemirror_mode": {
    "name": "ipython",
    "version": 3
   },
   "file_extension": ".py",
   "mimetype": "text/x-python",
   "name": "python",
   "nbconvert_exporter": "python",
   "pygments_lexer": "ipython3",
   "version": "3.5.2"
  }
 },
 "nbformat": 4,
 "nbformat_minor": 2
}
