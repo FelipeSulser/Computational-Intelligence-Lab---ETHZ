{
 "cells": [
  {
   "cell_type": "code",
   "execution_count": 11,
   "metadata": {
    "collapsed": false,
    "deletable": true,
    "editable": true
   },
   "outputs": [],
   "source": [
    "import csv\n",
    "import numpy as np\n",
    "import re\n",
    "import matplotlib.pyplot as plt\n",
    "\n",
    "from sklearn import cross_validation as cv\n",
    "import pandas as pd\n",
    "%matplotlib inline\n",
    "\n",
    "regex1 = r\"\\d+\"\n",
    "regex2 = r\"c\\d+\"\n",
    "X = np.zeros((10000,1000)) #1.000x10.000 matrix\n"
   ]
  },
  {
   "cell_type": "code",
   "execution_count": 12,
   "metadata": {
    "collapsed": true,
    "deletable": true,
    "editable": true
   },
   "outputs": [],
   "source": [
    "#load data\n",
    "with open(\"data_train.csv\") as csvfile:\n",
    "\treadCSV = csv.reader(csvfile,delimiter=',')\n",
    "\tnext(readCSV) #discard header\n",
    "\tfor row in readCSV:\n",
    "\t\tmatch = re.search(regex1,row[0])\n",
    "\t\tmatch2 = re.search(regex2,row[0])\n",
    "\t\trow_i = int(match.group(0))-1\n",
    "\t\tcol_i = int(match2.group(0)[1:]) -1\n",
    "\t\tX[row_i,col_i] = int(row[1])"
   ]
  },
  {
   "cell_type": "code",
   "execution_count": 13,
   "metadata": {
    "collapsed": false,
    "deletable": true,
    "editable": true
   },
   "outputs": [
    {
     "name": "stdout",
     "output_type": "stream",
     "text": [
      "7500\n"
     ]
    }
   ],
   "source": [
    "train_data, test_data = cv.train_test_split(X,test_size=0.25)\n",
    "\n",
    "train_data = X[:7500]\n",
    "test_data = X[7500:]\n",
    "\n",
    "M,N = X.shape\n",
    "R = np.zeros((10000, 1000))\n",
    "for i in range(train_data.shape[0]):\n",
    "    for j in range(train_data.shape[1]):\n",
    "        R[i,j] = train_data[i,j]\n",
    "\n",
    "shift = int(10000*(1-0.25))\n",
    "print(shift)\n",
    "T = np.zeros((10000, 1000))\n",
    "for i in range(test_data.shape[0]):\n",
    "    for j in range(test_data.shape[1]):\n",
    "        T[i+shift,j] = test_data[i,j]\n",
    "\n",
    "I = R.copy()\n",
    "I[I > 0] = 1\n",
    "I[I == 0] = 0\n",
    "I2 = T.copy()\n",
    "I2[I2 > 0] = 1\n",
    "I2[I2 == 0] = 0"
   ]
  },
  {
   "cell_type": "code",
   "execution_count": 14,
   "metadata": {
    "collapsed": true,
    "deletable": true,
    "editable": true
   },
   "outputs": [],
   "source": [
    "def prediction(U,Z):\n",
    "    return np.dot(U.T,Z)"
   ]
  },
  {
   "cell_type": "code",
   "execution_count": 15,
   "metadata": {
    "collapsed": true,
    "deletable": true,
    "editable": true
   },
   "outputs": [],
   "source": [
    "def rmse(I,R,Q,P):\n",
    "    return np.sqrt(np.sum((I * (R - prediction(P,Q)))**2)/len(R[R > 0]))"
   ]
  },
  {
   "cell_type": "code",
   "execution_count": 16,
   "metadata": {
    "collapsed": true,
    "deletable": true,
    "editable": true
   },
   "outputs": [],
   "source": [
    "train_errors = []\n",
    "test_errors = []"
   ]
  },
  {
   "cell_type": "code",
   "execution_count": 17,
   "metadata": {
    "collapsed": true,
    "deletable": true,
    "editable": true
   },
   "outputs": [],
   "source": [
    "K = 50\n",
    "U = np.random.rand(K,M)\n",
    "Z = np.random.rand(K,N)\n",
    "n_epochs = 10\n",
    "lmda = 0.00001\n",
    "gamma = 0.0001\n"
   ]
  },
  {
   "cell_type": "code",
   "execution_count": null,
   "metadata": {
    "collapsed": false,
    "deletable": true,
    "editable": true
   },
   "outputs": [
    {
     "name": "stdout",
     "output_type": "stream",
     "text": [
      "(851409,)\n",
      "(851409,)\n"
     ]
    }
   ],
   "source": [
    "#DO SGD\n",
    "users,movies = R.nonzero()\n",
    "print(users.shape)\n",
    "print(movies.shape)\n"
   ]
  },
  {
   "cell_type": "code",
   "execution_count": null,
   "metadata": {
    "collapsed": false,
    "deletable": true,
    "editable": true
   },
   "outputs": [],
   "source": [
    "for epoch in range(n_epochs):\n",
    "    for u, i in zip(users,movies):\n",
    "        e = R[u, i] - prediction(U[:,u],Z[:,i])\n",
    "        U[:,u] += gamma * ( e * Z[:,i] - lmda*U[:,u] )\n",
    "        Z[:,i] += gamma * ( e * U[:,u] - lmda*Z[:,i] )\n",
    "    train_rmse = rmse(I,R,Z,U) # Calculate root mean squared error from train dataset\n",
    "    test_rmse = rmse(I2,T,Z,U) # Calculate root mean squared error from test dataset\n",
    "    train_errors.append(train_rmse)\n",
    "    test_errors.append(test_rmse)"
   ]
  },
  {
   "cell_type": "code",
   "execution_count": 10,
   "metadata": {
    "collapsed": false,
    "deletable": true,
    "editable": true
   },
   "outputs": [
    {
     "data": {
      "image/png": "[encoded data removed]",
      "text/plain": [
       "<matplotlib.figure.Figure at 0x109d53198>"
      ]
     },
     "metadata": {},
     "output_type": "display_data"
    }
   ],
   "source": [
    "plt.plot(range(n_epochs), train_errors, marker='o', label='Training Data');\n",
    "plt.plot(range(n_epochs), test_errors, marker='v', label='Test Data');\n",
    "plt.title('SGD Learning Curve')\n",
    "plt.xlabel('Number of Epochs');\n",
    "plt.ylabel('RMSE');\n",
    "plt.legend()\n",
    "plt.grid()\n",
    "plt.show()"
   ]
  },
  {
   "cell_type": "code",
   "execution_count": null,
   "metadata": {
    "collapsed": true,
    "deletable": true,
    "editable": true
   },
   "outputs": [],
   "source": [
    "#now lets predict the data from samplesubmission\n",
    "fout = open('mysubmission.csv', 'w')\n",
    "fout.write(\"Id,Prediction\\n\")\n",
    "with open(\"SampleSubmission.csv\") as csvfile:\n",
    "    readCSV = csv.reader(csvfile,delimiter=',')\n",
    "    next(readCSV) #discard header\n",
    "    for row in readCSV:\n",
    "        match = re.search(regex1,row[0])\n",
    "        match2 = re.search(regex2,row[0])\n",
    "        row_i = int(match.group(0))-1\n",
    "        col_i = int(match2.group(0)[1:]) -1\n",
    "        calc = prediction(U[:,row_i], Z[:,col_i])\n",
    "        print(calc)\n",
    "        fout.write(row[0]+\",\"+str(calc)+\"\\n\")\n",
    "    fout.close()"
   ]
  },
  {
   "cell_type": "code",
   "execution_count": null,
   "metadata": {
    "collapsed": true,
    "deletable": true,
    "editable": true
   },
   "outputs": [],
   "source": []
  }
 ],
 "metadata": {
  "kernelspec": {
   "display_name": "Python 3",
   "language": "python",
   "name": "python3"
  },
  "language_info": {
   "codemirror_mode": {
    "name": "ipython",
    "version": 3
   },
   "file_extension": ".py",
   "mimetype": "text/x-python",
   "name": "python",
   "nbconvert_exporter": "python",
   "pygments_lexer": "ipython3",
   "version": "3.6.0"
  }
 },
 "nbformat": 4,
 "nbformat_minor": 2
}
