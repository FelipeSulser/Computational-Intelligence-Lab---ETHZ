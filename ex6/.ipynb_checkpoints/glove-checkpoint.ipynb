{
 "cells": [
  {
   "cell_type": "code",
   "execution_count": 1,
   "metadata": {
    "collapsed": false
   },
   "outputs": [
    {
     "name": "stdout",
     "output_type": "stream",
     "text": [
      "Hello world!!\n"
     ]
    }
   ],
   "source": [
    "from collections import Counter\n",
    "\n",
    "\n",
    "train_pos_path = './twitter-datasets/train_pos.txt' \n",
    "train_neg_path = './twitter-datasets/train_neg.txt' \n",
    "\n",
    "all_words_pos = []\n",
    "all_words_neg = []\n",
    "with open(train_pos_path, r) as f:\n",
    "    lines = f.readlines()\n",
    "    for line in lines:\n",
    "        all_words_pos.append(line.split())\n",
    "with open(train_neg_path, r) as f:\n",
    "    lines = f.readlines()\n",
    "    for line in lines:\n",
    "        all_words_neg.append(line.split())        \n",
    "        \n",
    "pos_cnt = Counter(all_words_pos)\n",
    "neg_cnt = Counter(all_words_neg)\n",
    "\n",
    "pos_ignore = []\n",
    "neg_ignore = []\n",
    "for key,value in pos_cnt.items():\n",
    "    if value <= 5:\n",
    "        pos_ignore.append(key)\n",
    "for key,value in neg_cnt.items():\n",
    "    if value <= 5:\n",
    "        neg_ignore.append(key)  "
   ]
  }
 ],
 "metadata": {
  "kernelspec": {
   "display_name": "Python 3",
   "language": "python",
   "name": "python3"
  },
  "language_info": {
   "codemirror_mode": {
    "name": "ipython",
    "version": 3
   },
   "file_extension": ".py",
   "mimetype": "text/x-python",
   "name": "python",
   "nbconvert_exporter": "python",
   "pygments_lexer": "ipython3",
   "version": "3.5.2"
  }
 },
 "nbformat": 4,
 "nbformat_minor": 2
}
